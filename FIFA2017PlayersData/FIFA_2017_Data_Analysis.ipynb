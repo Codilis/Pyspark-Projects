{
  "nbformat": 4,
  "nbformat_minor": 0,
  "metadata": {
    "colab": {
      "provenance": [],
      "authorship_tag": "ABX9TyMxTyJqQZfuA0gOso7vW869",
      "include_colab_link": true
    },
    "kernelspec": {
      "name": "python3",
      "display_name": "Python 3"
    },
    "language_info": {
      "name": "python"
    }
  },
  "cells": [
    {
      "cell_type": "markdown",
      "metadata": {
        "id": "view-in-github",
        "colab_type": "text"
      },
      "source": [
        "<a href=\"https://colab.research.google.com/github/Codilis/Pyspark-Projects/blob/master/FIFA2017PlayersData/FIFA_2017_Data_Analysis.ipynb\" target=\"_parent\"><img src=\"https://colab.research.google.com/assets/colab-badge.svg\" alt=\"Open In Colab\"/></a>"
      ]
    },
    {
      "cell_type": "code",
      "execution_count": 1,
      "metadata": {
        "colab": {
          "base_uri": "https://localhost:8080/"
        },
        "id": "UJYCwURIsHsX",
        "outputId": "7ea6562e-9aea-44c7-9bc8-412feada0d95"
      },
      "outputs": [
        {
          "output_type": "stream",
          "name": "stdout",
          "text": [
            "Collecting pyspark\n",
            "  Downloading pyspark-3.5.0.tar.gz (316.9 MB)\n",
            "\u001b[2K     \u001b[90m━━━━━━━━━━━━━━━━━━━━━━━━━━━━━━━━━━━━━━━━\u001b[0m \u001b[32m316.9/316.9 MB\u001b[0m \u001b[31m3.4 MB/s\u001b[0m eta \u001b[36m0:00:00\u001b[0m\n",
            "\u001b[?25h  Preparing metadata (setup.py) ... \u001b[?25l\u001b[?25hdone\n",
            "Requirement already satisfied: py4j==0.10.9.7 in /usr/local/lib/python3.10/dist-packages (from pyspark) (0.10.9.7)\n",
            "Building wheels for collected packages: pyspark\n",
            "  Building wheel for pyspark (setup.py) ... \u001b[?25l\u001b[?25hdone\n",
            "  Created wheel for pyspark: filename=pyspark-3.5.0-py2.py3-none-any.whl size=317425345 sha256=ac120cdd7782be260eaf71da962f8a2141f0dad6e88266b2ea0b01b20eb37462\n",
            "  Stored in directory: /root/.cache/pip/wheels/41/4e/10/c2cf2467f71c678cfc8a6b9ac9241e5e44a01940da8fbb17fc\n",
            "Successfully built pyspark\n",
            "Installing collected packages: pyspark\n",
            "Successfully installed pyspark-3.5.0\n"
          ]
        }
      ],
      "source": [
        "# Data Source : https://www.kaggle.com/datasets/artimous/complete-fifa-2017-player-dataset-global/data\n",
        "!pip install pyspark"
      ]
    },
    {
      "cell_type": "code",
      "source": [
        "import pandas as pd\n",
        "from pyspark.sql import functions as F\n",
        "from pyspark.sql.types import *\n",
        "from pyspark.sql import SparkSession\n",
        "from pyspark.sql.window import Window\n",
        "from collections import defaultdict"
      ],
      "metadata": {
        "id": "ft9zguC7sgMX"
      },
      "execution_count": 2,
      "outputs": []
    },
    {
      "cell_type": "code",
      "source": [
        "#Create my_spark\n",
        "spark = SparkSession.builder.getOrCreate()"
      ],
      "metadata": {
        "id": "vSf2RyYHskfb"
      },
      "execution_count": 3,
      "outputs": []
    },
    {
      "cell_type": "code",
      "source": [
        "github_url = \"https://raw.githubusercontent.com/Codilis/Pyspark-Projects/master/FIFA2017PlayersData/players_data.csv\"\n",
        "pd_df = pd.read_csv(github_url)\n",
        "pd_df.head()"
      ],
      "metadata": {
        "colab": {
          "base_uri": "https://localhost:8080/",
          "height": 342
        },
        "id": "0yNl4gbPssMz",
        "outputId": "2132bbe7-b396-4bbd-d0ad-adda76be5ed3"
      },
      "execution_count": 4,
      "outputs": [
        {
          "output_type": "execute_result",
          "data": {
            "text/plain": [
              "                Name Nationality National_Position  National_Kit  \\\n",
              "0  Cristiano Ronaldo    Portugal                LS           7.0   \n",
              "1       Lionel Messi   Argentina                RW          10.0   \n",
              "2             Neymar      Brazil                LW          10.0   \n",
              "3        Luis Suárez     Uruguay                LS           9.0   \n",
              "4       Manuel Neuer     Germany                GK           1.0   \n",
              "\n",
              "           Club Club_Position  Club_Kit Club_Joining  Contract_Expiry  Rating  \\\n",
              "0   Real Madrid            LW       7.0   07/01/2009           2021.0      94   \n",
              "1  FC Barcelona            RW      10.0   07/01/2004           2018.0      93   \n",
              "2  FC Barcelona            LW      11.0   07/01/2013           2021.0      92   \n",
              "3  FC Barcelona            ST       9.0   07/11/2014           2021.0      92   \n",
              "4     FC Bayern            GK       1.0   07/01/2011           2021.0      92   \n",
              "\n",
              "   ... Long_Shots Curve Freekick_Accuracy Penalties  Volleys GK_Positioning  \\\n",
              "0  ...         90    81                76        85       88             14   \n",
              "1  ...         88    89                90        74       85             14   \n",
              "2  ...         77    79                84        81       83             15   \n",
              "3  ...         86    86                84        85       88             33   \n",
              "4  ...         16    14                11        47       11             91   \n",
              "\n",
              "  GK_Diving  GK_Kicking  GK_Handling  GK_Reflexes  \n",
              "0         7          15           11           11  \n",
              "1         6          15           11            8  \n",
              "2         9          15            9           11  \n",
              "3        27          31           25           37  \n",
              "4        89          95           90           89  \n",
              "\n",
              "[5 rows x 53 columns]"
            ],
            "text/html": [
              "\n",
              "  <div id=\"df-ab34dbd1-0589-45ea-89be-3fd991d32dd0\" class=\"colab-df-container\">\n",
              "    <div>\n",
              "<style scoped>\n",
              "    .dataframe tbody tr th:only-of-type {\n",
              "        vertical-align: middle;\n",
              "    }\n",
              "\n",
              "    .dataframe tbody tr th {\n",
              "        vertical-align: top;\n",
              "    }\n",
              "\n",
              "    .dataframe thead th {\n",
              "        text-align: right;\n",
              "    }\n",
              "</style>\n",
              "<table border=\"1\" class=\"dataframe\">\n",
              "  <thead>\n",
              "    <tr style=\"text-align: right;\">\n",
              "      <th></th>\n",
              "      <th>Name</th>\n",
              "      <th>Nationality</th>\n",
              "      <th>National_Position</th>\n",
              "      <th>National_Kit</th>\n",
              "      <th>Club</th>\n",
              "      <th>Club_Position</th>\n",
              "      <th>Club_Kit</th>\n",
              "      <th>Club_Joining</th>\n",
              "      <th>Contract_Expiry</th>\n",
              "      <th>Rating</th>\n",
              "      <th>...</th>\n",
              "      <th>Long_Shots</th>\n",
              "      <th>Curve</th>\n",
              "      <th>Freekick_Accuracy</th>\n",
              "      <th>Penalties</th>\n",
              "      <th>Volleys</th>\n",
              "      <th>GK_Positioning</th>\n",
              "      <th>GK_Diving</th>\n",
              "      <th>GK_Kicking</th>\n",
              "      <th>GK_Handling</th>\n",
              "      <th>GK_Reflexes</th>\n",
              "    </tr>\n",
              "  </thead>\n",
              "  <tbody>\n",
              "    <tr>\n",
              "      <th>0</th>\n",
              "      <td>Cristiano Ronaldo</td>\n",
              "      <td>Portugal</td>\n",
              "      <td>LS</td>\n",
              "      <td>7.0</td>\n",
              "      <td>Real Madrid</td>\n",
              "      <td>LW</td>\n",
              "      <td>7.0</td>\n",
              "      <td>07/01/2009</td>\n",
              "      <td>2021.0</td>\n",
              "      <td>94</td>\n",
              "      <td>...</td>\n",
              "      <td>90</td>\n",
              "      <td>81</td>\n",
              "      <td>76</td>\n",
              "      <td>85</td>\n",
              "      <td>88</td>\n",
              "      <td>14</td>\n",
              "      <td>7</td>\n",
              "      <td>15</td>\n",
              "      <td>11</td>\n",
              "      <td>11</td>\n",
              "    </tr>\n",
              "    <tr>\n",
              "      <th>1</th>\n",
              "      <td>Lionel Messi</td>\n",
              "      <td>Argentina</td>\n",
              "      <td>RW</td>\n",
              "      <td>10.0</td>\n",
              "      <td>FC Barcelona</td>\n",
              "      <td>RW</td>\n",
              "      <td>10.0</td>\n",
              "      <td>07/01/2004</td>\n",
              "      <td>2018.0</td>\n",
              "      <td>93</td>\n",
              "      <td>...</td>\n",
              "      <td>88</td>\n",
              "      <td>89</td>\n",
              "      <td>90</td>\n",
              "      <td>74</td>\n",
              "      <td>85</td>\n",
              "      <td>14</td>\n",
              "      <td>6</td>\n",
              "      <td>15</td>\n",
              "      <td>11</td>\n",
              "      <td>8</td>\n",
              "    </tr>\n",
              "    <tr>\n",
              "      <th>2</th>\n",
              "      <td>Neymar</td>\n",
              "      <td>Brazil</td>\n",
              "      <td>LW</td>\n",
              "      <td>10.0</td>\n",
              "      <td>FC Barcelona</td>\n",
              "      <td>LW</td>\n",
              "      <td>11.0</td>\n",
              "      <td>07/01/2013</td>\n",
              "      <td>2021.0</td>\n",
              "      <td>92</td>\n",
              "      <td>...</td>\n",
              "      <td>77</td>\n",
              "      <td>79</td>\n",
              "      <td>84</td>\n",
              "      <td>81</td>\n",
              "      <td>83</td>\n",
              "      <td>15</td>\n",
              "      <td>9</td>\n",
              "      <td>15</td>\n",
              "      <td>9</td>\n",
              "      <td>11</td>\n",
              "    </tr>\n",
              "    <tr>\n",
              "      <th>3</th>\n",
              "      <td>Luis Suárez</td>\n",
              "      <td>Uruguay</td>\n",
              "      <td>LS</td>\n",
              "      <td>9.0</td>\n",
              "      <td>FC Barcelona</td>\n",
              "      <td>ST</td>\n",
              "      <td>9.0</td>\n",
              "      <td>07/11/2014</td>\n",
              "      <td>2021.0</td>\n",
              "      <td>92</td>\n",
              "      <td>...</td>\n",
              "      <td>86</td>\n",
              "      <td>86</td>\n",
              "      <td>84</td>\n",
              "      <td>85</td>\n",
              "      <td>88</td>\n",
              "      <td>33</td>\n",
              "      <td>27</td>\n",
              "      <td>31</td>\n",
              "      <td>25</td>\n",
              "      <td>37</td>\n",
              "    </tr>\n",
              "    <tr>\n",
              "      <th>4</th>\n",
              "      <td>Manuel Neuer</td>\n",
              "      <td>Germany</td>\n",
              "      <td>GK</td>\n",
              "      <td>1.0</td>\n",
              "      <td>FC Bayern</td>\n",
              "      <td>GK</td>\n",
              "      <td>1.0</td>\n",
              "      <td>07/01/2011</td>\n",
              "      <td>2021.0</td>\n",
              "      <td>92</td>\n",
              "      <td>...</td>\n",
              "      <td>16</td>\n",
              "      <td>14</td>\n",
              "      <td>11</td>\n",
              "      <td>47</td>\n",
              "      <td>11</td>\n",
              "      <td>91</td>\n",
              "      <td>89</td>\n",
              "      <td>95</td>\n",
              "      <td>90</td>\n",
              "      <td>89</td>\n",
              "    </tr>\n",
              "  </tbody>\n",
              "</table>\n",
              "<p>5 rows × 53 columns</p>\n",
              "</div>\n",
              "    <div class=\"colab-df-buttons\">\n",
              "\n",
              "  <div class=\"colab-df-container\">\n",
              "    <button class=\"colab-df-convert\" onclick=\"convertToInteractive('df-ab34dbd1-0589-45ea-89be-3fd991d32dd0')\"\n",
              "            title=\"Convert this dataframe to an interactive table.\"\n",
              "            style=\"display:none;\">\n",
              "\n",
              "  <svg xmlns=\"http://www.w3.org/2000/svg\" height=\"24px\" viewBox=\"0 -960 960 960\">\n",
              "    <path d=\"M120-120v-720h720v720H120Zm60-500h600v-160H180v160Zm220 220h160v-160H400v160Zm0 220h160v-160H400v160ZM180-400h160v-160H180v160Zm440 0h160v-160H620v160ZM180-180h160v-160H180v160Zm440 0h160v-160H620v160Z\"/>\n",
              "  </svg>\n",
              "    </button>\n",
              "\n",
              "  <style>\n",
              "    .colab-df-container {\n",
              "      display:flex;\n",
              "      gap: 12px;\n",
              "    }\n",
              "\n",
              "    .colab-df-convert {\n",
              "      background-color: #E8F0FE;\n",
              "      border: none;\n",
              "      border-radius: 50%;\n",
              "      cursor: pointer;\n",
              "      display: none;\n",
              "      fill: #1967D2;\n",
              "      height: 32px;\n",
              "      padding: 0 0 0 0;\n",
              "      width: 32px;\n",
              "    }\n",
              "\n",
              "    .colab-df-convert:hover {\n",
              "      background-color: #E2EBFA;\n",
              "      box-shadow: 0px 1px 2px rgba(60, 64, 67, 0.3), 0px 1px 3px 1px rgba(60, 64, 67, 0.15);\n",
              "      fill: #174EA6;\n",
              "    }\n",
              "\n",
              "    .colab-df-buttons div {\n",
              "      margin-bottom: 4px;\n",
              "    }\n",
              "\n",
              "    [theme=dark] .colab-df-convert {\n",
              "      background-color: #3B4455;\n",
              "      fill: #D2E3FC;\n",
              "    }\n",
              "\n",
              "    [theme=dark] .colab-df-convert:hover {\n",
              "      background-color: #434B5C;\n",
              "      box-shadow: 0px 1px 3px 1px rgba(0, 0, 0, 0.15);\n",
              "      filter: drop-shadow(0px 1px 2px rgba(0, 0, 0, 0.3));\n",
              "      fill: #FFFFFF;\n",
              "    }\n",
              "  </style>\n",
              "\n",
              "    <script>\n",
              "      const buttonEl =\n",
              "        document.querySelector('#df-ab34dbd1-0589-45ea-89be-3fd991d32dd0 button.colab-df-convert');\n",
              "      buttonEl.style.display =\n",
              "        google.colab.kernel.accessAllowed ? 'block' : 'none';\n",
              "\n",
              "      async function convertToInteractive(key) {\n",
              "        const element = document.querySelector('#df-ab34dbd1-0589-45ea-89be-3fd991d32dd0');\n",
              "        const dataTable =\n",
              "          await google.colab.kernel.invokeFunction('convertToInteractive',\n",
              "                                                    [key], {});\n",
              "        if (!dataTable) return;\n",
              "\n",
              "        const docLinkHtml = 'Like what you see? Visit the ' +\n",
              "          '<a target=\"_blank\" href=https://colab.research.google.com/notebooks/data_table.ipynb>data table notebook</a>'\n",
              "          + ' to learn more about interactive tables.';\n",
              "        element.innerHTML = '';\n",
              "        dataTable['output_type'] = 'display_data';\n",
              "        await google.colab.output.renderOutput(dataTable, element);\n",
              "        const docLink = document.createElement('div');\n",
              "        docLink.innerHTML = docLinkHtml;\n",
              "        element.appendChild(docLink);\n",
              "      }\n",
              "    </script>\n",
              "  </div>\n",
              "\n",
              "\n",
              "<div id=\"df-d5fd043a-a88e-454c-b982-acb7c1882c3d\">\n",
              "  <button class=\"colab-df-quickchart\" onclick=\"quickchart('df-d5fd043a-a88e-454c-b982-acb7c1882c3d')\"\n",
              "            title=\"Suggest charts\"\n",
              "            style=\"display:none;\">\n",
              "\n",
              "<svg xmlns=\"http://www.w3.org/2000/svg\" height=\"24px\"viewBox=\"0 0 24 24\"\n",
              "     width=\"24px\">\n",
              "    <g>\n",
              "        <path d=\"M19 3H5c-1.1 0-2 .9-2 2v14c0 1.1.9 2 2 2h14c1.1 0 2-.9 2-2V5c0-1.1-.9-2-2-2zM9 17H7v-7h2v7zm4 0h-2V7h2v10zm4 0h-2v-4h2v4z\"/>\n",
              "    </g>\n",
              "</svg>\n",
              "  </button>\n",
              "\n",
              "<style>\n",
              "  .colab-df-quickchart {\n",
              "      --bg-color: #E8F0FE;\n",
              "      --fill-color: #1967D2;\n",
              "      --hover-bg-color: #E2EBFA;\n",
              "      --hover-fill-color: #174EA6;\n",
              "      --disabled-fill-color: #AAA;\n",
              "      --disabled-bg-color: #DDD;\n",
              "  }\n",
              "\n",
              "  [theme=dark] .colab-df-quickchart {\n",
              "      --bg-color: #3B4455;\n",
              "      --fill-color: #D2E3FC;\n",
              "      --hover-bg-color: #434B5C;\n",
              "      --hover-fill-color: #FFFFFF;\n",
              "      --disabled-bg-color: #3B4455;\n",
              "      --disabled-fill-color: #666;\n",
              "  }\n",
              "\n",
              "  .colab-df-quickchart {\n",
              "    background-color: var(--bg-color);\n",
              "    border: none;\n",
              "    border-radius: 50%;\n",
              "    cursor: pointer;\n",
              "    display: none;\n",
              "    fill: var(--fill-color);\n",
              "    height: 32px;\n",
              "    padding: 0;\n",
              "    width: 32px;\n",
              "  }\n",
              "\n",
              "  .colab-df-quickchart:hover {\n",
              "    background-color: var(--hover-bg-color);\n",
              "    box-shadow: 0 1px 2px rgba(60, 64, 67, 0.3), 0 1px 3px 1px rgba(60, 64, 67, 0.15);\n",
              "    fill: var(--button-hover-fill-color);\n",
              "  }\n",
              "\n",
              "  .colab-df-quickchart-complete:disabled,\n",
              "  .colab-df-quickchart-complete:disabled:hover {\n",
              "    background-color: var(--disabled-bg-color);\n",
              "    fill: var(--disabled-fill-color);\n",
              "    box-shadow: none;\n",
              "  }\n",
              "\n",
              "  .colab-df-spinner {\n",
              "    border: 2px solid var(--fill-color);\n",
              "    border-color: transparent;\n",
              "    border-bottom-color: var(--fill-color);\n",
              "    animation:\n",
              "      spin 1s steps(1) infinite;\n",
              "  }\n",
              "\n",
              "  @keyframes spin {\n",
              "    0% {\n",
              "      border-color: transparent;\n",
              "      border-bottom-color: var(--fill-color);\n",
              "      border-left-color: var(--fill-color);\n",
              "    }\n",
              "    20% {\n",
              "      border-color: transparent;\n",
              "      border-left-color: var(--fill-color);\n",
              "      border-top-color: var(--fill-color);\n",
              "    }\n",
              "    30% {\n",
              "      border-color: transparent;\n",
              "      border-left-color: var(--fill-color);\n",
              "      border-top-color: var(--fill-color);\n",
              "      border-right-color: var(--fill-color);\n",
              "    }\n",
              "    40% {\n",
              "      border-color: transparent;\n",
              "      border-right-color: var(--fill-color);\n",
              "      border-top-color: var(--fill-color);\n",
              "    }\n",
              "    60% {\n",
              "      border-color: transparent;\n",
              "      border-right-color: var(--fill-color);\n",
              "    }\n",
              "    80% {\n",
              "      border-color: transparent;\n",
              "      border-right-color: var(--fill-color);\n",
              "      border-bottom-color: var(--fill-color);\n",
              "    }\n",
              "    90% {\n",
              "      border-color: transparent;\n",
              "      border-bottom-color: var(--fill-color);\n",
              "    }\n",
              "  }\n",
              "</style>\n",
              "\n",
              "  <script>\n",
              "    async function quickchart(key) {\n",
              "      const quickchartButtonEl =\n",
              "        document.querySelector('#' + key + ' button');\n",
              "      quickchartButtonEl.disabled = true;  // To prevent multiple clicks.\n",
              "      quickchartButtonEl.classList.add('colab-df-spinner');\n",
              "      try {\n",
              "        const charts = await google.colab.kernel.invokeFunction(\n",
              "            'suggestCharts', [key], {});\n",
              "      } catch (error) {\n",
              "        console.error('Error during call to suggestCharts:', error);\n",
              "      }\n",
              "      quickchartButtonEl.classList.remove('colab-df-spinner');\n",
              "      quickchartButtonEl.classList.add('colab-df-quickchart-complete');\n",
              "    }\n",
              "    (() => {\n",
              "      let quickchartButtonEl =\n",
              "        document.querySelector('#df-d5fd043a-a88e-454c-b982-acb7c1882c3d button');\n",
              "      quickchartButtonEl.style.display =\n",
              "        google.colab.kernel.accessAllowed ? 'block' : 'none';\n",
              "    })();\n",
              "  </script>\n",
              "</div>\n",
              "\n",
              "    </div>\n",
              "  </div>\n"
            ]
          },
          "metadata": {},
          "execution_count": 4
        }
      ]
    },
    {
      "cell_type": "code",
      "source": [
        "spark_df_unprocessed = spark.createDataFrame(pd_df)\n",
        "spark_df_unprocessed.limit(5).show()"
      ],
      "metadata": {
        "colab": {
          "base_uri": "https://localhost:8080/"
        },
        "id": "dxT56UEus-rH",
        "outputId": "77e037ae-1b3f-4c75-b8d7-e0ee0204caa4"
      },
      "execution_count": 35,
      "outputs": [
        {
          "output_type": "stream",
          "name": "stdout",
          "text": [
            "+-----------------+-----------+-----------------+------------+------------+-------------+--------+------------+---------------+------+------+------+--------------+----------+---+------------------+---------------+---------+-----------+------------+---------+-------+--------------+---------------+----------+---------+------------------+-------------+------+---------+--------+----------+---------+------------+-----+-------+--------+-------+-------+-------+-------+----------+---------+----------+-----+-----------------+---------+-------+--------------+---------+----------+-----------+-----------+\n",
            "|             Name|Nationality|National_Position|National_Kit|        Club|Club_Position|Club_Kit|Club_Joining|Contract_Expiry|Rating|Height|Weight|Preffered_Foot|Birth_Date|Age|Preffered_Position|      Work_Rate|Weak_foot|Skill_Moves|Ball_Control|Dribbling|Marking|Sliding_Tackle|Standing_Tackle|Aggression|Reactions|Attacking_Position|Interceptions|Vision|Composure|Crossing|Short_Pass|Long_Pass|Acceleration|Speed|Stamina|Strength|Balance|Agility|Jumping|Heading|Shot_Power|Finishing|Long_Shots|Curve|Freekick_Accuracy|Penalties|Volleys|GK_Positioning|GK_Diving|GK_Kicking|GK_Handling|GK_Reflexes|\n",
            "+-----------------+-----------+-----------------+------------+------------+-------------+--------+------------+---------------+------+------+------+--------------+----------+---+------------------+---------------+---------+-----------+------------+---------+-------+--------------+---------------+----------+---------+------------------+-------------+------+---------+--------+----------+---------+------------+-----+-------+--------+-------+-------+-------+-------+----------+---------+----------+-----+-----------------+---------+-------+--------------+---------+----------+-----------+-----------+\n",
            "|Cristiano Ronaldo|   Portugal|               LS|         7.0| Real Madrid|           LW|     7.0|  07/01/2009|         2021.0|    94|185 cm| 80 kg|         Right|02/05/1985| 32|             LW/ST|     High / Low|        4|          5|          93|       92|     22|            23|             31|        63|       96|                94|           29|    85|       86|      84|        83|       77|          91|   92|     92|      80|     63|     90|     95|     85|        92|       93|        90|   81|               76|       85|     88|            14|        7|        15|         11|         11|\n",
            "|     Lionel Messi|  Argentina|               RW|        10.0|FC Barcelona|           RW|    10.0|  07/01/2004|         2018.0|    93|170 cm| 72 kg|          Left|06/24/1987| 29|                RW|Medium / Medium|        4|          4|          95|       97|     13|            26|             28|        48|       95|                93|           22|    90|       94|      77|        88|       87|          92|   87|     74|      59|     95|     90|     68|     71|        85|       95|        88|   89|               90|       74|     85|            14|        6|        15|         11|          8|\n",
            "|           Neymar|     Brazil|               LW|        10.0|FC Barcelona|           LW|    11.0|  07/01/2013|         2021.0|    92|174 cm| 68 kg|         Right|02/05/1992| 25|                LW|  High / Medium|        5|          5|          95|       96|     21|            33|             24|        56|       88|                90|           36|    80|       80|      75|        81|       75|          93|   90|     79|      49|     82|     96|     61|     62|        78|       89|        77|   79|               84|       81|     83|            15|        9|        15|          9|         11|\n",
            "|      Luis Suárez|    Uruguay|               LS|         9.0|FC Barcelona|           ST|     9.0|  07/11/2014|         2021.0|    92|182 cm| 85 kg|         Right|01/24/1987| 30|                ST|  High / Medium|        4|          4|          91|       86|     30|            38|             45|        78|       93|                92|           41|    84|       83|      77|        83|       64|          88|   77|     89|      76|     60|     86|     69|     77|        87|       94|        86|   86|               84|       85|     88|            33|       27|        31|         25|         37|\n",
            "|     Manuel Neuer|    Germany|               GK|         1.0|   FC Bayern|           GK|     1.0|  07/01/2011|         2021.0|    92|193 cm| 92 kg|         Right|03/27/1986| 31|                GK|Medium / Medium|        4|          1|          48|       30|     10|            11|             10|        29|       85|                12|           30|    70|       70|      15|        55|       59|          58|   61|     44|      83|     35|     52|     78|     25|        25|       13|        16|   14|               11|       47|     11|            91|       89|        95|         90|         89|\n",
            "+-----------------+-----------+-----------------+------------+------------+-------------+--------+------------+---------------+------+------+------+--------------+----------+---+------------------+---------------+---------+-----------+------------+---------+-------+--------------+---------------+----------+---------+------------------+-------------+------+---------+--------+----------+---------+------------+-----+-------+--------+-------+-------+-------+-------+----------+---------+----------+-----+-----------------+---------+-------+--------------+---------+----------+-----------+-----------+\n",
            "\n"
          ]
        }
      ]
    },
    {
      "cell_type": "markdown",
      "source": [
        "## Pre Processing"
      ],
      "metadata": {
        "id": "9NsWLUyCvfQ-"
      }
    },
    {
      "cell_type": "code",
      "source": [
        "schema = IntegerType()\n",
        "spark_df = spark_df_unprocessed.withColumn('Height', F.translate('Height', ' cm', '').cast(schema))\n",
        "spark_df = spark_df.withColumn('Weight', F.translate('Weight', ' kg', '').cast(schema))\n",
        "spark_df = spark_df.withColumn('Birth_Date', F.to_date('Birth_Date', 'MM/dd/yyyy'))\n",
        "spark_df = spark_df.withColumn('Club_Joining', F.to_date('Club_Joining', 'MM/dd/yyyy'))\n",
        "\n",
        "col_list = ['Name', 'Nationality', 'National_Position', 'Club', 'Club_Position', 'Preffered_Foot', 'Preffered_Position', 'Work_Rate']\n",
        "for col in col_list:\n",
        "  spark_df = spark_df.withColumn(col, F.lower(F.trim(col)))\n",
        "spark_df.limit(5).show()"
      ],
      "metadata": {
        "colab": {
          "base_uri": "https://localhost:8080/"
        },
        "id": "R25FpT3jvl20",
        "outputId": "c725e3dc-5a97-4452-997e-6ec76a7d2ced"
      },
      "execution_count": 37,
      "outputs": [
        {
          "output_type": "stream",
          "name": "stdout",
          "text": [
            "+-----------------+-----------+-----------------+------------+------------+-------------+--------+------------+---------------+------+------+------+--------------+----------+---+------------------+---------------+---------+-----------+------------+---------+-------+--------------+---------------+----------+---------+------------------+-------------+------+---------+--------+----------+---------+------------+-----+-------+--------+-------+-------+-------+-------+----------+---------+----------+-----+-----------------+---------+-------+--------------+---------+----------+-----------+-----------+\n",
            "|             Name|Nationality|National_Position|National_Kit|        Club|Club_Position|Club_Kit|Club_Joining|Contract_Expiry|Rating|Height|Weight|Preffered_Foot|Birth_Date|Age|Preffered_Position|      Work_Rate|Weak_foot|Skill_Moves|Ball_Control|Dribbling|Marking|Sliding_Tackle|Standing_Tackle|Aggression|Reactions|Attacking_Position|Interceptions|Vision|Composure|Crossing|Short_Pass|Long_Pass|Acceleration|Speed|Stamina|Strength|Balance|Agility|Jumping|Heading|Shot_Power|Finishing|Long_Shots|Curve|Freekick_Accuracy|Penalties|Volleys|GK_Positioning|GK_Diving|GK_Kicking|GK_Handling|GK_Reflexes|\n",
            "+-----------------+-----------+-----------------+------------+------------+-------------+--------+------------+---------------+------+------+------+--------------+----------+---+------------------+---------------+---------+-----------+------------+---------+-------+--------------+---------------+----------+---------+------------------+-------------+------+---------+--------+----------+---------+------------+-----+-------+--------+-------+-------+-------+-------+----------+---------+----------+-----+-----------------+---------+-------+--------------+---------+----------+-----------+-----------+\n",
            "|cristiano ronaldo|   portugal|               ls|         7.0| real madrid|           lw|     7.0|  2009-07-01|         2021.0|    94|   185|    80|         right|1985-02-05| 32|             lw/st|     high / low|        4|          5|          93|       92|     22|            23|             31|        63|       96|                94|           29|    85|       86|      84|        83|       77|          91|   92|     92|      80|     63|     90|     95|     85|        92|       93|        90|   81|               76|       85|     88|            14|        7|        15|         11|         11|\n",
            "|     lionel messi|  argentina|               rw|        10.0|fc barcelona|           rw|    10.0|  2004-07-01|         2018.0|    93|   170|    72|          left|1987-06-24| 29|                rw|medium / medium|        4|          4|          95|       97|     13|            26|             28|        48|       95|                93|           22|    90|       94|      77|        88|       87|          92|   87|     74|      59|     95|     90|     68|     71|        85|       95|        88|   89|               90|       74|     85|            14|        6|        15|         11|          8|\n",
            "|           neymar|     brazil|               lw|        10.0|fc barcelona|           lw|    11.0|  2013-07-01|         2021.0|    92|   174|    68|         right|1992-02-05| 25|                lw|  high / medium|        5|          5|          95|       96|     21|            33|             24|        56|       88|                90|           36|    80|       80|      75|        81|       75|          93|   90|     79|      49|     82|     96|     61|     62|        78|       89|        77|   79|               84|       81|     83|            15|        9|        15|          9|         11|\n",
            "|      luis suárez|    uruguay|               ls|         9.0|fc barcelona|           st|     9.0|  2014-07-11|         2021.0|    92|   182|    85|         right|1987-01-24| 30|                st|  high / medium|        4|          4|          91|       86|     30|            38|             45|        78|       93|                92|           41|    84|       83|      77|        83|       64|          88|   77|     89|      76|     60|     86|     69|     77|        87|       94|        86|   86|               84|       85|     88|            33|       27|        31|         25|         37|\n",
            "|     manuel neuer|    germany|               gk|         1.0|   fc bayern|           gk|     1.0|  2011-07-01|         2021.0|    92|   193|    92|         right|1986-03-27| 31|                gk|medium / medium|        4|          1|          48|       30|     10|            11|             10|        29|       85|                12|           30|    70|       70|      15|        55|       59|          58|   61|     44|      83|     35|     52|     78|     25|        25|       13|        16|   14|               11|       47|     11|            91|       89|        95|         90|         89|\n",
            "+-----------------+-----------+-----------------+------------+------------+-------------+--------+------------+---------------+------+------+------+--------------+----------+---+------------------+---------------+---------+-----------+------------+---------+-------+--------------+---------------+----------+---------+------------------+-------------+------+---------+--------+----------+---------+------------+-----+-------+--------+-------+-------+-------+-------+----------+---------+----------+-----+-----------------+---------+-------+--------------+---------+----------+-----------+-----------+\n",
            "\n"
          ]
        }
      ]
    },
    {
      "cell_type": "code",
      "source": [
        "(spark_df.select(F.col('Nationality')).distinct().count(),\n",
        "spark_df.select(F.col('National_Position')).distinct().count(),\n",
        "spark_df.select(F.col('Work_Rate')).distinct().count(),\n",
        "spark_df.select(F.col('Club')).distinct().count(),\n",
        "spark_df.select(F.col('Rating')).distinct().count())"
      ],
      "metadata": {
        "colab": {
          "base_uri": "https://localhost:8080/"
        },
        "id": "VoDmUAw4vnok",
        "outputId": "79fa2f34-bfc1-4a50-e558-6893ddfd6b03"
      },
      "execution_count": 38,
      "outputs": [
        {
          "output_type": "execute_result",
          "data": {
            "text/plain": [
              "(160, 28, 9, 634, 49)"
            ]
          },
          "metadata": {},
          "execution_count": 38
        }
      ]
    },
    {
      "cell_type": "markdown",
      "source": [
        "## Data Analysis"
      ],
      "metadata": {
        "id": "cUYnnunf03SB"
      }
    },
    {
      "cell_type": "code",
      "source": [
        "# Nationality wise player count\n",
        "player_count_by_national = spark_df.groupBy(F.col('Nationality')).count().orderBy(F.col('count'), ascending=False)\n",
        "player_count_by_club = spark_df.groupBy(F.col('Club')).count().orderBy(F.col('count'), ascending=False)\n",
        "\n",
        "player_count_by_club.show()"
      ],
      "metadata": {
        "colab": {
          "base_uri": "https://localhost:8080/"
        },
        "id": "iHkzmCcgvnra",
        "outputId": "9ecb2059-14e0-4e5f-a786-f3824fcf6caa"
      },
      "execution_count": 40,
      "outputs": [
        {
          "output_type": "stream",
          "name": "stdout",
          "text": [
            "+---------------+-----+\n",
            "|           Club|count|\n",
            "+---------------+-----+\n",
            "|    free agents|  232|\n",
            "|   hamburger sv|   33|\n",
            "| leicester city|   33|\n",
            "|manchester city|   33|\n",
            "|    southampton|   33|\n",
            "|olym. marseille|   33|\n",
            "|      liverpool|   33|\n",
            "|        watford|   33|\n",
            "| crystal palace|   33|\n",
            "|    real madrid|   33|\n",
            "|        fc metz|   33|\n",
            "|  werder bremen|   33|\n",
            "|       west ham|   33|\n",
            "|          spurs|   33|\n",
            "| sporting gijón|   33|\n",
            "|    fc augsburg|   33|\n",
            "|    bournemouth|   33|\n",
            "|  ud las palmas|   33|\n",
            "|       ogc nice|   33|\n",
            "|     sunderland|   33|\n",
            "+---------------+-----+\n",
            "only showing top 20 rows\n",
            "\n"
          ]
        }
      ]
    },
    {
      "cell_type": "code",
      "source": [
        "spark_df.select(F.col('Nationality')).distinct().count(),\n",
        "spark_df.select(F.col('Nationality')).distinct().count(),"
      ],
      "metadata": {
        "colab": {
          "base_uri": "https://localhost:8080/"
        },
        "id": "77kisK5ntJKz",
        "outputId": "57e555c0-15c9-4140-9ffe-81477e11cdda"
      },
      "execution_count": null,
      "outputs": [
        {
          "output_type": "execute_result",
          "data": {
            "text/plain": [
              "160"
            ]
          },
          "metadata": {},
          "execution_count": 9
        }
      ]
    },
    {
      "cell_type": "code",
      "source": [],
      "metadata": {
        "id": "x0N8YFx9NtjV"
      },
      "execution_count": null,
      "outputs": []
    }
  ]
}