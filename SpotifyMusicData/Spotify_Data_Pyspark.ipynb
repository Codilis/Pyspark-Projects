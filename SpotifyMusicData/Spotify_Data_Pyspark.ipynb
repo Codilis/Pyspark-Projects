{
  "nbformat": 4,
  "nbformat_minor": 0,
  "metadata": {
    "colab": {
      "provenance": [],
      "authorship_tag": "ABX9TyMbDAF3qoFNeBOcf8TjHo/7",
      "include_colab_link": true
    },
    "kernelspec": {
      "name": "python3",
      "display_name": "Python 3"
    },
    "language_info": {
      "name": "python"
    }
  },
  "cells": [
    {
      "cell_type": "markdown",
      "metadata": {
        "id": "view-in-github",
        "colab_type": "text"
      },
      "source": [
        "<a href=\"https://colab.research.google.com/github/Codilis/Pyspark-Projects/blob/master/SpotifyMusicData/Spotify_Data_Pyspark.ipynb\" target=\"_parent\"><img src=\"https://colab.research.google.com/assets/colab-badge.svg\" alt=\"Open In Colab\"/></a>"
      ]
    },
    {
      "cell_type": "code",
      "execution_count": 1,
      "metadata": {
        "colab": {
          "base_uri": "https://localhost:8080/"
        },
        "id": "Rpv9AzUey5Xu",
        "outputId": "a6de9b9e-2de0-44c5-b2c1-dc3b389907e2"
      },
      "outputs": [
        {
          "output_type": "stream",
          "name": "stdout",
          "text": [
            "Collecting pyspark\n",
            "  Downloading pyspark-3.5.0.tar.gz (316.9 MB)\n",
            "\u001b[2K     \u001b[90m━━━━━━━━━━━━━━━━━━━━━━━━━━━━━━━━━━━━━━━━\u001b[0m \u001b[32m316.9/316.9 MB\u001b[0m \u001b[31m3.0 MB/s\u001b[0m eta \u001b[36m0:00:00\u001b[0m\n",
            "\u001b[?25h  Preparing metadata (setup.py) ... \u001b[?25l\u001b[?25hdone\n",
            "Requirement already satisfied: py4j==0.10.9.7 in /usr/local/lib/python3.10/dist-packages (from pyspark) (0.10.9.7)\n",
            "Building wheels for collected packages: pyspark\n",
            "  Building wheel for pyspark (setup.py) ... \u001b[?25l\u001b[?25hdone\n",
            "  Created wheel for pyspark: filename=pyspark-3.5.0-py2.py3-none-any.whl size=317425345 sha256=65730fb14ad034a241d2b0f38af3e39e971a4e7dfc09f06ab7f739d38d82ef9d\n",
            "  Stored in directory: /root/.cache/pip/wheels/41/4e/10/c2cf2467f71c678cfc8a6b9ac9241e5e44a01940da8fbb17fc\n",
            "Successfully built pyspark\n",
            "Installing collected packages: pyspark\n",
            "Successfully installed pyspark-3.5.0\n"
          ]
        }
      ],
      "source": [
        "# Data Source : https://www.kaggle.com/datasets/kapturovalexander/spotify-data-from-pyspark-course/data\n",
        "!pip install pyspark"
      ]
    },
    {
      "cell_type": "code",
      "source": [
        "import pyspark as sp\n",
        "import pandas as pd\n",
        "from pyspark.sql import functions as F\n",
        "from pyspark.sql.types import *\n",
        "from pyspark.sql import SparkSession\n",
        "from pyspark.sql.window import Window\n",
        "from collections import defaultdict\n"
      ],
      "metadata": {
        "id": "PtaEdofo4AgU"
      },
      "execution_count": 2,
      "outputs": []
    },
    {
      "cell_type": "code",
      "source": [
        "# Global Functions\n",
        "def rename_columns(df, new_names):\n",
        "  for k, v in new_names.items():\n",
        "    df = df.withColumnRenamed(k,v)\n",
        "  return df\n"
      ],
      "metadata": {
        "id": "7xUShCu1qqC3"
      },
      "execution_count": 3,
      "outputs": []
    },
    {
      "cell_type": "code",
      "source": [
        "#Create my_spark\n",
        "spark = SparkSession.builder.getOrCreate()"
      ],
      "metadata": {
        "id": "j6xwvylTXs9G"
      },
      "execution_count": 4,
      "outputs": []
    },
    {
      "cell_type": "code",
      "source": [
        "github_url = \"https://raw.githubusercontent.com/Codilis/Pyspark-Projects/master/SpotifyMusicData/spotify-data/{i}.csv\"\n",
        "data_files = [github_url.format(i=i) for i in range(1, 5)]\n",
        "\n",
        "pd_df = pd.read_csv(data_files[0])\n",
        "\n",
        "for i in range(1, len(data_files)):\n",
        "  temp = pd.read_csv(data_files[i], header=None, names=pd_df.columns.tolist())\n",
        "  pd_df = pd.concat([pd_df, temp], axis=0)\n",
        "\n",
        "pd_df.head()"
      ],
      "metadata": {
        "colab": {
          "base_uri": "https://localhost:8080/",
          "height": 434
        },
        "id": "H6Iw70Sj4FHd",
        "outputId": "65528537-3708-4493-dc52-6075a63f4e68"
      },
      "execution_count": 5,
      "outputs": [
        {
          "output_type": "execute_result",
          "data": {
            "text/plain": [
              "                       id                                           name  \\\n",
              "0  6KbQ3uYMLKb5jDxLF7wYDD                    Singende Bataillone 1. Teil   \n",
              "1  6KuQTIu1KoTTkLXKrwlLPV       Fantasiestücke, Op. 111: Più tosto lento   \n",
              "2  6L63VW0PibdM1HDSBoqnoM                 Chapter 1.18 - Zamek kaniowski   \n",
              "3  6M94FkXd15sOAOQYRnWPN8  Bebamos Juntos - Instrumental (Remasterizado)   \n",
              "4  6N6tiFZ9vLTSOIxkj8qKrd    Polonaise-Fantaisie in A-Flat Major, Op. 61   \n",
              "\n",
              "                                    artists  duration_ms release_date  year  \\\n",
              "0                       ['Carl Woitschach']       158648         1928  1928   \n",
              "1  ['Robert Schumann', 'Vladimir Horowitz']       282133         1928  1928   \n",
              "2                   ['Seweryn Goszczyński']       104300         1928  1928   \n",
              "3                      ['Francisco Canaro']       180760      9/25/28  1928   \n",
              "4  ['Frédéric Chopin', 'Vladimir Horowitz']       687733         1928  1928   \n",
              "\n",
              "   acousticness  danceability  energy  instrumentalness  liveness  loudness  \\\n",
              "0         0.995         0.708  0.1950             0.563    0.1510   -12.428   \n",
              "1         0.994         0.379  0.0135             0.901    0.0763   -28.454   \n",
              "2         0.604         0.749  0.2200             0.000    0.1190   -19.924   \n",
              "3         0.995         0.781  0.1300             0.887    0.1110   -14.734   \n",
              "4         0.990         0.210  0.2040             0.908    0.0980   -16.829   \n",
              "\n",
              "   speechiness    tempo  valence  mode  key  popularity  explicit  \n",
              "0       0.0506  118.469   0.7790     1   10           0         0  \n",
              "1       0.0462   83.972   0.0767     1    8           0         0  \n",
              "2       0.9290  107.177   0.8800     0    5           0         0  \n",
              "3       0.0926  108.003   0.7200     0    1           0         0  \n",
              "4       0.0424   62.149   0.0693     1   11           1         0  "
            ],
            "text/html": [
              "\n",
              "  <div id=\"df-f4583579-46eb-4609-a421-566ea790e41e\" class=\"colab-df-container\">\n",
              "    <div>\n",
              "<style scoped>\n",
              "    .dataframe tbody tr th:only-of-type {\n",
              "        vertical-align: middle;\n",
              "    }\n",
              "\n",
              "    .dataframe tbody tr th {\n",
              "        vertical-align: top;\n",
              "    }\n",
              "\n",
              "    .dataframe thead th {\n",
              "        text-align: right;\n",
              "    }\n",
              "</style>\n",
              "<table border=\"1\" class=\"dataframe\">\n",
              "  <thead>\n",
              "    <tr style=\"text-align: right;\">\n",
              "      <th></th>\n",
              "      <th>id</th>\n",
              "      <th>name</th>\n",
              "      <th>artists</th>\n",
              "      <th>duration_ms</th>\n",
              "      <th>release_date</th>\n",
              "      <th>year</th>\n",
              "      <th>acousticness</th>\n",
              "      <th>danceability</th>\n",
              "      <th>energy</th>\n",
              "      <th>instrumentalness</th>\n",
              "      <th>liveness</th>\n",
              "      <th>loudness</th>\n",
              "      <th>speechiness</th>\n",
              "      <th>tempo</th>\n",
              "      <th>valence</th>\n",
              "      <th>mode</th>\n",
              "      <th>key</th>\n",
              "      <th>popularity</th>\n",
              "      <th>explicit</th>\n",
              "    </tr>\n",
              "  </thead>\n",
              "  <tbody>\n",
              "    <tr>\n",
              "      <th>0</th>\n",
              "      <td>6KbQ3uYMLKb5jDxLF7wYDD</td>\n",
              "      <td>Singende Bataillone 1. Teil</td>\n",
              "      <td>['Carl Woitschach']</td>\n",
              "      <td>158648</td>\n",
              "      <td>1928</td>\n",
              "      <td>1928</td>\n",
              "      <td>0.995</td>\n",
              "      <td>0.708</td>\n",
              "      <td>0.1950</td>\n",
              "      <td>0.563</td>\n",
              "      <td>0.1510</td>\n",
              "      <td>-12.428</td>\n",
              "      <td>0.0506</td>\n",
              "      <td>118.469</td>\n",
              "      <td>0.7790</td>\n",
              "      <td>1</td>\n",
              "      <td>10</td>\n",
              "      <td>0</td>\n",
              "      <td>0</td>\n",
              "    </tr>\n",
              "    <tr>\n",
              "      <th>1</th>\n",
              "      <td>6KuQTIu1KoTTkLXKrwlLPV</td>\n",
              "      <td>Fantasiestücke, Op. 111: Più tosto lento</td>\n",
              "      <td>['Robert Schumann', 'Vladimir Horowitz']</td>\n",
              "      <td>282133</td>\n",
              "      <td>1928</td>\n",
              "      <td>1928</td>\n",
              "      <td>0.994</td>\n",
              "      <td>0.379</td>\n",
              "      <td>0.0135</td>\n",
              "      <td>0.901</td>\n",
              "      <td>0.0763</td>\n",
              "      <td>-28.454</td>\n",
              "      <td>0.0462</td>\n",
              "      <td>83.972</td>\n",
              "      <td>0.0767</td>\n",
              "      <td>1</td>\n",
              "      <td>8</td>\n",
              "      <td>0</td>\n",
              "      <td>0</td>\n",
              "    </tr>\n",
              "    <tr>\n",
              "      <th>2</th>\n",
              "      <td>6L63VW0PibdM1HDSBoqnoM</td>\n",
              "      <td>Chapter 1.18 - Zamek kaniowski</td>\n",
              "      <td>['Seweryn Goszczyński']</td>\n",
              "      <td>104300</td>\n",
              "      <td>1928</td>\n",
              "      <td>1928</td>\n",
              "      <td>0.604</td>\n",
              "      <td>0.749</td>\n",
              "      <td>0.2200</td>\n",
              "      <td>0.000</td>\n",
              "      <td>0.1190</td>\n",
              "      <td>-19.924</td>\n",
              "      <td>0.9290</td>\n",
              "      <td>107.177</td>\n",
              "      <td>0.8800</td>\n",
              "      <td>0</td>\n",
              "      <td>5</td>\n",
              "      <td>0</td>\n",
              "      <td>0</td>\n",
              "    </tr>\n",
              "    <tr>\n",
              "      <th>3</th>\n",
              "      <td>6M94FkXd15sOAOQYRnWPN8</td>\n",
              "      <td>Bebamos Juntos - Instrumental (Remasterizado)</td>\n",
              "      <td>['Francisco Canaro']</td>\n",
              "      <td>180760</td>\n",
              "      <td>9/25/28</td>\n",
              "      <td>1928</td>\n",
              "      <td>0.995</td>\n",
              "      <td>0.781</td>\n",
              "      <td>0.1300</td>\n",
              "      <td>0.887</td>\n",
              "      <td>0.1110</td>\n",
              "      <td>-14.734</td>\n",
              "      <td>0.0926</td>\n",
              "      <td>108.003</td>\n",
              "      <td>0.7200</td>\n",
              "      <td>0</td>\n",
              "      <td>1</td>\n",
              "      <td>0</td>\n",
              "      <td>0</td>\n",
              "    </tr>\n",
              "    <tr>\n",
              "      <th>4</th>\n",
              "      <td>6N6tiFZ9vLTSOIxkj8qKrd</td>\n",
              "      <td>Polonaise-Fantaisie in A-Flat Major, Op. 61</td>\n",
              "      <td>['Frédéric Chopin', 'Vladimir Horowitz']</td>\n",
              "      <td>687733</td>\n",
              "      <td>1928</td>\n",
              "      <td>1928</td>\n",
              "      <td>0.990</td>\n",
              "      <td>0.210</td>\n",
              "      <td>0.2040</td>\n",
              "      <td>0.908</td>\n",
              "      <td>0.0980</td>\n",
              "      <td>-16.829</td>\n",
              "      <td>0.0424</td>\n",
              "      <td>62.149</td>\n",
              "      <td>0.0693</td>\n",
              "      <td>1</td>\n",
              "      <td>11</td>\n",
              "      <td>1</td>\n",
              "      <td>0</td>\n",
              "    </tr>\n",
              "  </tbody>\n",
              "</table>\n",
              "</div>\n",
              "    <div class=\"colab-df-buttons\">\n",
              "\n",
              "  <div class=\"colab-df-container\">\n",
              "    <button class=\"colab-df-convert\" onclick=\"convertToInteractive('df-f4583579-46eb-4609-a421-566ea790e41e')\"\n",
              "            title=\"Convert this dataframe to an interactive table.\"\n",
              "            style=\"display:none;\">\n",
              "\n",
              "  <svg xmlns=\"http://www.w3.org/2000/svg\" height=\"24px\" viewBox=\"0 -960 960 960\">\n",
              "    <path d=\"M120-120v-720h720v720H120Zm60-500h600v-160H180v160Zm220 220h160v-160H400v160Zm0 220h160v-160H400v160ZM180-400h160v-160H180v160Zm440 0h160v-160H620v160ZM180-180h160v-160H180v160Zm440 0h160v-160H620v160Z\"/>\n",
              "  </svg>\n",
              "    </button>\n",
              "\n",
              "  <style>\n",
              "    .colab-df-container {\n",
              "      display:flex;\n",
              "      gap: 12px;\n",
              "    }\n",
              "\n",
              "    .colab-df-convert {\n",
              "      background-color: #E8F0FE;\n",
              "      border: none;\n",
              "      border-radius: 50%;\n",
              "      cursor: pointer;\n",
              "      display: none;\n",
              "      fill: #1967D2;\n",
              "      height: 32px;\n",
              "      padding: 0 0 0 0;\n",
              "      width: 32px;\n",
              "    }\n",
              "\n",
              "    .colab-df-convert:hover {\n",
              "      background-color: #E2EBFA;\n",
              "      box-shadow: 0px 1px 2px rgba(60, 64, 67, 0.3), 0px 1px 3px 1px rgba(60, 64, 67, 0.15);\n",
              "      fill: #174EA6;\n",
              "    }\n",
              "\n",
              "    .colab-df-buttons div {\n",
              "      margin-bottom: 4px;\n",
              "    }\n",
              "\n",
              "    [theme=dark] .colab-df-convert {\n",
              "      background-color: #3B4455;\n",
              "      fill: #D2E3FC;\n",
              "    }\n",
              "\n",
              "    [theme=dark] .colab-df-convert:hover {\n",
              "      background-color: #434B5C;\n",
              "      box-shadow: 0px 1px 3px 1px rgba(0, 0, 0, 0.15);\n",
              "      filter: drop-shadow(0px 1px 2px rgba(0, 0, 0, 0.3));\n",
              "      fill: #FFFFFF;\n",
              "    }\n",
              "  </style>\n",
              "\n",
              "    <script>\n",
              "      const buttonEl =\n",
              "        document.querySelector('#df-f4583579-46eb-4609-a421-566ea790e41e button.colab-df-convert');\n",
              "      buttonEl.style.display =\n",
              "        google.colab.kernel.accessAllowed ? 'block' : 'none';\n",
              "\n",
              "      async function convertToInteractive(key) {\n",
              "        const element = document.querySelector('#df-f4583579-46eb-4609-a421-566ea790e41e');\n",
              "        const dataTable =\n",
              "          await google.colab.kernel.invokeFunction('convertToInteractive',\n",
              "                                                    [key], {});\n",
              "        if (!dataTable) return;\n",
              "\n",
              "        const docLinkHtml = 'Like what you see? Visit the ' +\n",
              "          '<a target=\"_blank\" href=https://colab.research.google.com/notebooks/data_table.ipynb>data table notebook</a>'\n",
              "          + ' to learn more about interactive tables.';\n",
              "        element.innerHTML = '';\n",
              "        dataTable['output_type'] = 'display_data';\n",
              "        await google.colab.output.renderOutput(dataTable, element);\n",
              "        const docLink = document.createElement('div');\n",
              "        docLink.innerHTML = docLinkHtml;\n",
              "        element.appendChild(docLink);\n",
              "      }\n",
              "    </script>\n",
              "  </div>\n",
              "\n",
              "\n",
              "<div id=\"df-d993d5ed-f3e9-4f82-9e0d-72bc5616ba43\">\n",
              "  <button class=\"colab-df-quickchart\" onclick=\"quickchart('df-d993d5ed-f3e9-4f82-9e0d-72bc5616ba43')\"\n",
              "            title=\"Suggest charts\"\n",
              "            style=\"display:none;\">\n",
              "\n",
              "<svg xmlns=\"http://www.w3.org/2000/svg\" height=\"24px\"viewBox=\"0 0 24 24\"\n",
              "     width=\"24px\">\n",
              "    <g>\n",
              "        <path d=\"M19 3H5c-1.1 0-2 .9-2 2v14c0 1.1.9 2 2 2h14c1.1 0 2-.9 2-2V5c0-1.1-.9-2-2-2zM9 17H7v-7h2v7zm4 0h-2V7h2v10zm4 0h-2v-4h2v4z\"/>\n",
              "    </g>\n",
              "</svg>\n",
              "  </button>\n",
              "\n",
              "<style>\n",
              "  .colab-df-quickchart {\n",
              "      --bg-color: #E8F0FE;\n",
              "      --fill-color: #1967D2;\n",
              "      --hover-bg-color: #E2EBFA;\n",
              "      --hover-fill-color: #174EA6;\n",
              "      --disabled-fill-color: #AAA;\n",
              "      --disabled-bg-color: #DDD;\n",
              "  }\n",
              "\n",
              "  [theme=dark] .colab-df-quickchart {\n",
              "      --bg-color: #3B4455;\n",
              "      --fill-color: #D2E3FC;\n",
              "      --hover-bg-color: #434B5C;\n",
              "      --hover-fill-color: #FFFFFF;\n",
              "      --disabled-bg-color: #3B4455;\n",
              "      --disabled-fill-color: #666;\n",
              "  }\n",
              "\n",
              "  .colab-df-quickchart {\n",
              "    background-color: var(--bg-color);\n",
              "    border: none;\n",
              "    border-radius: 50%;\n",
              "    cursor: pointer;\n",
              "    display: none;\n",
              "    fill: var(--fill-color);\n",
              "    height: 32px;\n",
              "    padding: 0;\n",
              "    width: 32px;\n",
              "  }\n",
              "\n",
              "  .colab-df-quickchart:hover {\n",
              "    background-color: var(--hover-bg-color);\n",
              "    box-shadow: 0 1px 2px rgba(60, 64, 67, 0.3), 0 1px 3px 1px rgba(60, 64, 67, 0.15);\n",
              "    fill: var(--button-hover-fill-color);\n",
              "  }\n",
              "\n",
              "  .colab-df-quickchart-complete:disabled,\n",
              "  .colab-df-quickchart-complete:disabled:hover {\n",
              "    background-color: var(--disabled-bg-color);\n",
              "    fill: var(--disabled-fill-color);\n",
              "    box-shadow: none;\n",
              "  }\n",
              "\n",
              "  .colab-df-spinner {\n",
              "    border: 2px solid var(--fill-color);\n",
              "    border-color: transparent;\n",
              "    border-bottom-color: var(--fill-color);\n",
              "    animation:\n",
              "      spin 1s steps(1) infinite;\n",
              "  }\n",
              "\n",
              "  @keyframes spin {\n",
              "    0% {\n",
              "      border-color: transparent;\n",
              "      border-bottom-color: var(--fill-color);\n",
              "      border-left-color: var(--fill-color);\n",
              "    }\n",
              "    20% {\n",
              "      border-color: transparent;\n",
              "      border-left-color: var(--fill-color);\n",
              "      border-top-color: var(--fill-color);\n",
              "    }\n",
              "    30% {\n",
              "      border-color: transparent;\n",
              "      border-left-color: var(--fill-color);\n",
              "      border-top-color: var(--fill-color);\n",
              "      border-right-color: var(--fill-color);\n",
              "    }\n",
              "    40% {\n",
              "      border-color: transparent;\n",
              "      border-right-color: var(--fill-color);\n",
              "      border-top-color: var(--fill-color);\n",
              "    }\n",
              "    60% {\n",
              "      border-color: transparent;\n",
              "      border-right-color: var(--fill-color);\n",
              "    }\n",
              "    80% {\n",
              "      border-color: transparent;\n",
              "      border-right-color: var(--fill-color);\n",
              "      border-bottom-color: var(--fill-color);\n",
              "    }\n",
              "    90% {\n",
              "      border-color: transparent;\n",
              "      border-bottom-color: var(--fill-color);\n",
              "    }\n",
              "  }\n",
              "</style>\n",
              "\n",
              "  <script>\n",
              "    async function quickchart(key) {\n",
              "      const quickchartButtonEl =\n",
              "        document.querySelector('#' + key + ' button');\n",
              "      quickchartButtonEl.disabled = true;  // To prevent multiple clicks.\n",
              "      quickchartButtonEl.classList.add('colab-df-spinner');\n",
              "      try {\n",
              "        const charts = await google.colab.kernel.invokeFunction(\n",
              "            'suggestCharts', [key], {});\n",
              "      } catch (error) {\n",
              "        console.error('Error during call to suggestCharts:', error);\n",
              "      }\n",
              "      quickchartButtonEl.classList.remove('colab-df-spinner');\n",
              "      quickchartButtonEl.classList.add('colab-df-quickchart-complete');\n",
              "    }\n",
              "    (() => {\n",
              "      let quickchartButtonEl =\n",
              "        document.querySelector('#df-d993d5ed-f3e9-4f82-9e0d-72bc5616ba43 button');\n",
              "      quickchartButtonEl.style.display =\n",
              "        google.colab.kernel.accessAllowed ? 'block' : 'none';\n",
              "    })();\n",
              "  </script>\n",
              "</div>\n",
              "\n",
              "    </div>\n",
              "  </div>\n"
            ]
          },
          "metadata": {},
          "execution_count": 5
        }
      ]
    },
    {
      "cell_type": "code",
      "source": [
        "spark_df = spark.createDataFrame(pd_df)\n",
        "schema = ArrayType(StringType())\n",
        "spark_df = spark_df.withColumn('artists', F.from_json(spark_df[\"artists\"], schema))\n",
        "spark_df.limit(5).show()"
      ],
      "metadata": {
        "colab": {
          "base_uri": "https://localhost:8080/"
        },
        "id": "mUM9h4q66g6R",
        "outputId": "c6ffcd8e-36a4-4500-dc21-74d33aef1323"
      },
      "execution_count": 6,
      "outputs": [
        {
          "output_type": "stream",
          "name": "stdout",
          "text": [
            "+--------------------+--------------------+--------------------+-----------+------------+----+------------+------------+------+----------------+--------+--------+-----------+-------+-------+----+---+----------+--------+\n",
            "|                  id|                name|             artists|duration_ms|release_date|year|acousticness|danceability|energy|instrumentalness|liveness|loudness|speechiness|  tempo|valence|mode|key|popularity|explicit|\n",
            "+--------------------+--------------------+--------------------+-----------+------------+----+------------+------------+------+----------------+--------+--------+-----------+-------+-------+----+---+----------+--------+\n",
            "|6KbQ3uYMLKb5jDxLF...|Singende Bataillo...|   [Carl Woitschach]|     158648|        1928|1928|       0.995|       0.708| 0.195|           0.563|   0.151| -12.428|     0.0506|118.469|  0.779|   1| 10|         0|       0|\n",
            "|6KuQTIu1KoTTkLXKr...|Fantasiestücke, O...|[Robert Schumann,...|     282133|        1928|1928|       0.994|       0.379|0.0135|           0.901|  0.0763| -28.454|     0.0462| 83.972| 0.0767|   1|  8|         0|       0|\n",
            "|6L63VW0PibdM1HDSB...|Chapter 1.18 - Za...|[Seweryn Goszczyń...|     104300|        1928|1928|       0.604|       0.749|  0.22|             0.0|   0.119| -19.924|      0.929|107.177|   0.88|   0|  5|         0|       0|\n",
            "|6M94FkXd15sOAOQYR...|Bebamos Juntos - ...|  [Francisco Canaro]|     180760|     9/25/28|1928|       0.995|       0.781|  0.13|           0.887|   0.111| -14.734|     0.0926|108.003|   0.72|   0|  1|         0|       0|\n",
            "|6N6tiFZ9vLTSOIxkj...|Polonaise-Fantais...|[Frédéric Chopin,...|     687733|        1928|1928|        0.99|        0.21| 0.204|           0.908|   0.098| -16.829|     0.0424| 62.149| 0.0693|   1| 11|         1|       0|\n",
            "+--------------------+--------------------+--------------------+-----------+------------+----+------------+------------+------+----------------+--------+--------+-----------+-------+-------+----+---+----------+--------+\n",
            "\n"
          ]
        }
      ]
    },
    {
      "cell_type": "markdown",
      "source": [
        "# Artist Analysis"
      ],
      "metadata": {
        "id": "Jzyse1QrSn_D"
      }
    },
    {
      "cell_type": "code",
      "source": [
        "# Get the names of all the artist from the dataset\n",
        "distinct_artists = spark_df.select(F.explode(F.col('artists'))).distinct()\n",
        "\n",
        "# Artists Average Song Duration, acousticness, danceability, energy, instrumentalness, liveness, loudness, speechiness, tempo, valence, popularity\n",
        "new_names = {'avg(popularity)': 'AveragePopularity', 'avg(duration_ms)': 'AverageDuration_ms', 'avg(acousticness)': 'AverageAcousticness', 'avg(danceability)': 'AverageDanceability',\n",
        "             'avg(energy)': 'AverageEnergy', 'avg(instrumentalness)': 'AverageInstrumentalness', 'avg(liveness)': 'AverageLiveness', 'avg(loudness)': 'AverageLoudness',\n",
        "             'avg(speechiness)': 'AverageSpeechiness', 'avg(tempo)': 'AverageTempo', 'avg(valence)': 'AverageValence'}\n",
        "\n",
        "artist_popularity = spark_df.select(\n",
        "    F.explode(F.col('artists')).alias('artists'), F.col('popularity'), F.col('duration_ms'), F.col('acousticness'), F.col('danceability'), F.col('energy'), F.col('instrumentalness'),\n",
        "    F.col('liveness'), F.col('loudness'), F.col('speechiness'), F.col('tempo'), F.col('valence')).groupBy(F.col('artists')).avg()\n",
        "artist_popularity = rename_columns(artist_popularity, new_names)\n",
        "\n",
        "\n",
        "# Most Active Year for an artist\n",
        "most_active_year = spark_df.select(F.explode(F.col('artists')).alias('artists'), F.col('year')).groupBy(F.col('artists'), F.col('year')).count().select(\n",
        "    F.col('artists'), F.col('year'), F.col('count'), F.row_number().over(Window.partitionBy(\"artists\").orderBy(F.col(\"count\").desc())).alias(\"RowNumber\")).filter(\n",
        "        \"RowNumber = 1\").select(F.col(\"artists\"), F.col(\"year\").alias('MostActiveYear'), F.col(\"count\").alias(\"ActiveYearSongCount\"))\n",
        "\n",
        "# Number of Explicit Songs By an artist\n",
        "explicit_song_count = spark_df.select(F.explode(F.col('artists')).alias('artists'), F.col('explicit')).groupBy(F.col('artists')).agg(F.sum(\"explicit\")).alias('ExplicitCount')\n",
        "\n",
        "# Most Popular Year\n",
        "most_popular_year = spark_df.select(F.explode(F.col('artists')).alias('artists'), F.col('year'), F.when(F.col('popularity') == 0, 0).otherwise(1).alias('Popular')).groupBy(\n",
        "    F.col('artists'), F.col('year')).agg(F.sum(\"Popular\").alias(\"Count\")).select(\n",
        "    F.col('artists'), F.col('year'), F.col('count'), F.row_number().over(Window.partitionBy(\"artists\").orderBy(F.col(\"count\").desc())).alias(\"RowNumber\")).filter(\n",
        "        \"RowNumber = 1\").select(F.col(\"artists\"), F.col(\"year\").alias(\"PopularYear\"), F.col(\"count\").alias(\"SongsInTop100\"))\n",
        "\n",
        "# First and Last Song\n",
        "artist_last_song = spark_df.select(F.explode(F.col('artists')).alias('artists'), F.col('name'), F.col('year'), F.col('release_date')).select(\n",
        "                      F.col('artists'), F.col('name'), F.col('year'), F.col('release_date'),\n",
        "                F.row_number().over(Window.partitionBy(\"artists\").orderBy(F.col(\"year\").desc(), F.col(\"release_date\").desc())).alias(\"RowNumber\")). \\\n",
        "                filter(\"RowNumber = 1\").select(F.col(\"artists\"), F.col(\"name\").alias(\"LastSong\"), F.col(\"year\").alias(\"LastYear\"))\n",
        "\n",
        "artist_first_song = spark_df.select(F.explode(F.col('artists')).alias('artists'), F.col('name'), F.col('year'), F.col('release_date')).select(\n",
        "                      F.col('artists'), F.col('name'), F.col('year'), F.col('release_date'),\n",
        "                F.row_number().over(Window.partitionBy(\"artists\").orderBy(F.col(\"year\"), F.col(\"release_date\"))).alias(\"RowNumber\")). \\\n",
        "                filter(\"RowNumber = 1\").select(F.col(\"artists\"), F.col(\"name\").alias(\"FirstSong\"), F.col(\"year\").alias(\"FirstYear\"))\n",
        "\n",
        "\n",
        "# Most Collabarated Artist\n",
        "a = spark_df.select(F.explode(F.col('artists')).alias('Aartists'), F.col('name'))\n",
        "b = spark_df.select(F.explode(F.col('artists')).alias('Bartists'), F.col('name'))\n",
        "most_collaboration = a.join(b, \"name\", \"inner\").filter(\"Aartists != Bartists\").groupBy(\"Aartists\", \"Bartists\").count().\\\n",
        "  select(F.col(\"Aartists\"), F.col(\"Bartists\"), F.col(\"count\"), F.row_number().over(Window.partitionBy(\"Aartists\").orderBy(F.col(\"count\").desc())).alias(\"RowNumber\")).filter(\n",
        "        \"RowNumber = 1\").select(F.col(\"Aartists\").alias(\"artists\"), F.col(\"Bartists\").alias(\"Partner\"), F.col(\"count\").alias(\"ColabratedSongsCount\"))\n",
        "\n",
        "\n",
        "# distinct_artists.count(), artist_popularity.count(), most_active_year.count(), explicit_song_count.count(), most_popular_year.count(), artist_last_song.count(), artist_first_song.count(), most_collaboration.count()\n",
        "\n",
        "artist_df = artist_popularity.join(most_active_year, 'artists', 'inner').join(explicit_song_count, 'artists', 'inner').join(most_popular_year, 'artists', 'inner').\\\n",
        "join(artist_first_song, 'artists', 'inner').join(artist_last_song, 'artists', 'inner').join(most_collaboration, 'artists', 'left')\n",
        "\n",
        "artist_df.show(truncate=False)"
      ],
      "metadata": {
        "id": "rNWK1fDcSmsw"
      },
      "execution_count": null,
      "outputs": []
    },
    {
      "cell_type": "code",
      "source": [],
      "metadata": {
        "colab": {
          "base_uri": "https://localhost:8080/"
        },
        "id": "arPBqbKYTp6v",
        "outputId": "66971082-868b-41ac-cb9b-66ac07fa8e65"
      },
      "execution_count": null,
      "outputs": [
        {
          "output_type": "stream",
          "name": "stdout",
          "text": [
            "+-----------------------------------------------------------------+------------------+------------------+-------------------+-------------------+-------------------+-----------------------+-------------------+-------------------+-------------------+------------------+-------------------+--------------+-------------------+-------------+-----------+-------------+------------------------------------------------+---------+------------------------------------------------+--------+----------------------------------------------+--------------------+\n",
            "|artists                                                          |AveragePopularity |AverageDuration_ms|AverageAcousticness|AverageDanceability|AverageEnergy      |AverageInstrumentalness|AverageLiveness    |AverageLoudness    |AverageSpeechiness |AverageTempo      |AverageValence     |MostActiveYear|ActiveYearSongCount|sum(explicit)|PopularYear|SongsInTop100|FirstSong                                       |FirstYear|LastSong                                        |LastYear|Partner                                       |ColabratedSongsCount|\n",
            "+-----------------------------------------------------------------+------------------+------------------+-------------------+-------------------+-------------------+-----------------------+-------------------+-------------------+-------------------+------------------+-------------------+--------------+-------------------+-------------+-----------+-------------+------------------------------------------------+---------+------------------------------------------------+--------+----------------------------------------------+--------------------+\n",
            "|\"Cats\" 1981 Original London Cast                                 |38.5              |247992.0          |0.591              |0.44909999999999994|0.367503           |0.018760725            |0.30325            |-14.3268           |0.17517999999999997|112.3729          |0.35832            |1981          |10                 |0            |1981       |10           |The Rum Tum Tugger                              |1981     |The Rum Tum Tugger                              |1981    |Andrew Lloyd Webber                           |18                  |\n",
            "|\"Cats\" 1983 Broadway Cast                                        |33.04761904761905 |288683.1904761905 |0.8570952380952382 |0.45000000000000007|0.3857142857142857 |0.05062927952380953    |0.2697904761904762 |-10.711761904761905|0.13927142857142855|103.85942857142857|0.28269047619047616|1983          |21                 |0            |1983       |21           |The Journey To The Heaviside Layer              |1983     |The Journey To The Heaviside Layer              |1983    |Andrew Lloyd Webber                           |29                  |\n",
            "|\"Fiddler On The Roof” Motion Picture Chorus                      |34.285714285714285|328920.0          |0.8565714285714285 |0.34828571428571425|0.28657142857142853|0.024592948571428574   |0.3257857142857143 |-15.230714285714285|0.1185142857142857 |77.37585714285714 |0.3548571428571429 |1971          |7                  |0            |1971       |7            |Sunrise, Sunset                                 |1971     |Sunrise, Sunset                                 |1971    |\"Fiddler On The Roof” Motion Picture Orchestra|7                   |\n",
            "|\"Fiddler On The Roof” Motion Picture Orchestra                   |34.42857142857143 |259237.7142857143 |0.8875000000000001 |0.416              |0.24177857142857143|0.07098523357142858    |0.2705357142857143 |-15.701428571428574|0.12017142857142858|88.14164285714287 |0.36252857142857137|1971          |14                 |0            |1971       |14           |If I Were A Rich Man                            |1971     |If I Were A Rich Man                            |1971    |John Williams                                 |15                  |\n",
            "|\"Joseph And The Amazing Technicolor Dreamcoat\" 1991 London Cast  |42.6              |242370.6          |0.5978             |0.437              |0.4694             |0.033780204            |0.2084             |-10.9766           |0.1005             |122.7192          |0.4702             |1991          |5                  |0            |1991       |5            |Close Every Door To Me                          |1991     |Close Every Door To Me                          |1991    |Andrew Lloyd Webber                           |9                   |\n",
            "|\"Joseph And The Amazing Technicolor Dreamcoat\" 1992 Canadian Cast|34.166666666666664|205091.94444444444|0.6095555555555556 |0.4872777777777778 |0.30990555555555555|0.0046956566666666675  |0.27476666666666666|-18.266388888888887|0.09802222222222223|118.64894444444445|0.4415555555555556 |1992          |18                 |0            |1992       |18           |Go, Go, Go Joseph                               |1992     |Go, Go, Go Joseph                               |1992    |Andrew Lloyd Webber                           |22                  |\n",
            "|\"Mama\" Helen Teagarden                                           |0.0               |135533.0          |0.725              |0.637              |0.512              |0.186                  |0.426              |-20.615            |0.21               |134.819           |0.885              |1939          |1                  |0            |1939       |0            |Possum and Taters (feat. \"Mama\" Helen Teagarden)|1939     |Possum and Taters (feat. \"Mama\" Helen Teagarden)|1939    |Jack Teagarden & His Band                     |1                   |\n",
            "|\"Mista Dj Paul                                                   |36.0              |123040.0          |0.0069             |0.849              |0.487              |0.464                  |0.146              |-9.664             |0.351              |170.981           |0.499              |1999          |1                  |1            |1999       |1            |Slob On My Knob                                 |1999     |Slob On My Knob                                 |1999    |Gangsta Boo                                   |1                   |\n",
            "|\"Test for Victor Young\"                                          |2.0               |175693.0          |0.927              |0.734              |0.474              |0.0762                 |0.737              |-10.544            |0.256              |132.788           |0.902              |1925          |1                  |0            |1925       |1            |Bugle Call Rag                                  |1925     |Bugle Call Rag                                  |1925    |Flatt & Scruggs                               |1                   |\n",
            "|\"Weird Al\" Yankovic                                              |33.68181818181818 |218165.25757575757|0.17693409090909087|0.6647878787878787 |0.6851363636363638 |4.631757575757576E-5   |0.16213939393939394|-9.877909090909093 |0.08239242424242424|132.49509090909092|0.7544090909090908 |1985          |11                 |0            |1985       |11           |Happy Birthday                                  |1983     |Word Crimes                                     |2014    |Stevie Wonder                                 |2                   |\n",
            "|$IMEON                                                           |62.666666666666664|66307.33333333333 |0.24230000000000004|0.8066666666666666 |0.46900000000000003|1.3933333333333333E-6  |0.20433333333333334|-12.168            |0.48266666666666663|106.02            |0.592              |2020          |3                  |3            |2020       |3            |Never Had It                                    |2020     |Vibes Only                                      |2020    |Goyard Oz                                     |2                   |\n",
            "|$NOT                                                             |64.57142857142857 |157633.7142857143 |0.5088571428571428 |0.7402857142857143 |0.5279999999999999 |0.049297271428571425   |0.19911428571428572|-8.77              |0.24697142857142856|107.70857142857143|0.2937142857142857 |2020          |4                  |7            |2020       |4            |Lovely                                          |2018     |Human (feat. Night Lovell)                      |2020    |Maggie Lindemann                              |4                   |\n",
            "|$pyda                                                            |58.0              |331240.0          |1.22E-4            |0.514              |0.899              |0.0793                 |0.367              |-5.115             |0.0602             |174.028           |0.266              |2007          |1                  |0            |2007       |1            |Tarantula - Original Mix                        |2007     |Tarantula - Original Mix                        |2007    |DJ Fresh                                      |1                   |\n",
            "|$uicideBoy$                                                      |61.56716417910448 |148628.37313432837|0.12119119402985074|0.7671641791044775 |0.6440298507462685 |0.04120235820895522    |0.19462985074626865|-6.606716417910449 |0.15634477611940298|120.0553432835821 |0.29595373134328357|2015          |28                 |67           |2015       |28           |Kill Yourself                                   |2014     |That Just Isn't Empirically Possible            |2020    |Pouya                                         |8                   |\n",
            "|'Be More Chill' Ensemble                                         |52.0              |164400.0          |0.764              |0.497              |0.474              |2.23E-4                |0.453              |-7.279             |0.044              |133.934           |0.493              |2015          |1                  |0            |2015       |1            |A Guy That I'd Kinda Be Into                    |2015     |A Guy That I'd Kinda Be Into                    |2015    |Be More Chill                                 |1                   |\n",
            "|'In The Heights' Original Broadway Company                       |47.0              |298694.8888888889 |0.6483333333333332 |0.5329999999999999 |0.39337777777777777|7.3177777777777785E-6  |0.18894444444444444|-9.480777777777778 |0.14535555555555557|118.10777777777778|0.39311111111111113|2008          |9                  |0            |2008       |9            |Sunrise                                         |2008     |Sunrise                                         |2008    |Mandy Gonzalez                                |4                   |\n",
            "|'Legally Blonde' Ensemble                                        |48.0              |273237.0          |0.5802222222222222 |0.628              |0.42066666666666663|2.5820000000000004E-5  |0.2518444444444445 |-10.987111111111112|0.473              |123.81466666666665|0.5432222222222223 |2007          |9                  |0            |2007       |9            |Whipped into Shape                              |2007     |Whipped into Shape                              |2007    |Laura Bell Bundy                              |6                   |\n",
            "|'Legally Blonde' Greek Chorus                                    |49.0              |361780.0          |0.6045             |0.7735000000000001 |0.3095             |0.0                    |0.2222             |-12.669            |0.28900000000000003|105.7             |0.5965             |2007          |2                  |0            |2007       |2            |Positive                                        |2007     |Positive                                        |2007    |Laura Bell Bundy                              |2                   |\n",
            "|'Little Women' Original Broadway Cast                            |42.0              |275360.0          |0.902              |0.345              |0.325              |0.00214                |0.0721             |-7.955             |0.0354             |90.03             |0.168              |2005          |1                  |0            |2005       |1            |Astonishing                                     |2005     |Astonishing                                     |2005    |Jason Howland                                 |1                   |\n",
            "|'Til Tuesday                                                     |35.125            |255213.5          |0.10555625000000002|0.557125           |0.61225            |0.023300252499999997   |0.1275875          |-9.638125          |0.03215            |103.08025         |0.532625           |1985          |5                  |0            |1985       |5            |Voices Carry                                    |1981     |Coming Up Close                                 |1986    |NULL                                          |NULL                |\n",
            "+-----------------------------------------------------------------+------------------+------------------+-------------------+-------------------+-------------------+-----------------------+-------------------+-------------------+-------------------+------------------+-------------------+--------------+-------------------+-------------+-----------+-------------+------------------------------------------------+---------+------------------------------------------------+--------+----------------------------------------------+--------------------+\n",
            "only showing top 20 rows\n",
            "\n"
          ]
        }
      ]
    },
    {
      "cell_type": "markdown",
      "source": [
        "## Year Analysis"
      ],
      "metadata": {
        "id": "z4EnCoJrNKj0"
      }
    },
    {
      "cell_type": "code",
      "source": [
        "# Most Active artist for a year\n",
        "most_active_artist = spark_df.select(F.explode(F.col('artists')).alias('artists'), F.col('year')).groupBy(F.col('artists'), F.col('year')).count().select(\n",
        "    F.col('artists'), F.col('year'), F.col('count'), F.row_number().over(Window.partitionBy(\"year\").orderBy(F.col(\"count\").desc())).alias(\"RowNumber\")).filter(\n",
        "        \"RowNumber = 1\").select(F.col(\"year\"), F.col(\"artists\").alias('MostActiveArtist'), F.col(\"count\").alias(\"SongsReleased\"))\n",
        "\n",
        "# MostPopularSong\n",
        "most_popular_song = spark_df.filter(\"popularity > 0\").select(F.col('year'), F.col(\"name\"), F.col('popularity'), F.row_number().over(\n",
        "    Window.partitionBy(\"year\").orderBy(F.col('popularity'))).alias(\"RowNumber\")).filter(\"RowNumber=1\").select(F.col(\"year\"), F.col('name').alias(\"PopularSong\"))"
      ],
      "metadata": {
        "colab": {
          "base_uri": "https://localhost:8080/"
        },
        "id": "aU61PiuHwuG7",
        "outputId": "9de1ec04-79f3-415c-a984-d5eba0846449"
      },
      "execution_count": 9,
      "outputs": [
        {
          "output_type": "stream",
          "name": "stdout",
          "text": [
            "+----+--------------------+\n",
            "|year|         PopularSong|\n",
            "+----+--------------------+\n",
            "|1921|   Come Back To Erin|\n",
            "|1922|               Carve|\n",
            "|1923| Long Live Love Life|\n",
            "|1924| Sentimental Journey|\n",
            "|1925|Honey In The Hone...|\n",
            "|1926| Oh Kay!: Do, Do, Do|\n",
            "|1927|  Napule Ca Nun More|\n",
            "|1928|Polonaise-Fantais...|\n",
            "|1929|Der Rosenkavalier...|\n",
            "|1930|     Edward the VIII|\n",
            "|1931|       Lady of Spain|\n",
            "|1932|               Dinah|\n",
            "|1933|Don't Take Your L...|\n",
            "|1934|I've Found A New ...|\n",
            "|1935|               Uită!|\n",
            "|1936|I've Got A Crush ...|\n",
            "|1937|Baby, It's Cold O...|\n",
            "|1938|              Nunuțo|\n",
            "|1939|       Alkohol Blues|\n",
            "|1940|Apopse den koimit...|\n",
            "+----+--------------------+\n",
            "only showing top 20 rows\n",
            "\n"
          ]
        }
      ]
    },
    {
      "cell_type": "code",
      "source": [
        "spark_df.agg({\"year\": \"avg\", \"duration_ms\":\"avg\"}).collect()[0], spark_df.agg({\"year\": \"min\", \"duration_ms\":\"min\"}).collect()[0], spark_df.agg({\"year\": \"max\", \"duration_ms\":\"max\"}).collect()[0]"
      ],
      "metadata": {
        "colab": {
          "base_uri": "https://localhost:8080/"
        },
        "id": "y1bFN_np7zvT",
        "outputId": "5969dfd0-478a-4de7-bf24-e9aa3f1587dc"
      },
      "execution_count": null,
      "outputs": [
        {
          "output_type": "execute_result",
          "data": {
            "text/plain": [
              "(Row(avg(duration_ms)=231406.1589733328, avg(year)=1977.2232312590857),\n",
              " Row(min(duration_ms)=5108, min(year)=1921),\n",
              " Row(max(duration_ms)=5403500, max(year)=2020))"
            ]
          },
          "metadata": {},
          "execution_count": 7
        }
      ]
    },
    {
      "cell_type": "code",
      "source": [
        "\n",
        "# spark_df.select(F.col('popularity')).distinct().sort('popularity').collect()\n",
        "\n",
        "# spark_df.groupBy(F.col('popularity')).count().show()"
      ],
      "metadata": {
        "id": "eVK2uPMmXaeb",
        "colab": {
          "base_uri": "https://localhost:8080/",
          "height": 35
        },
        "outputId": "7443e9cb-d2ac-40fb-a266-40c16d10f00d"
      },
      "execution_count": null,
      "outputs": [
        {
          "output_type": "execute_result",
          "data": {
            "text/plain": [
              "'Johannes Brahms'"
            ],
            "application/vnd.google.colaboratory.intrinsic+json": {
              "type": "string"
            }
          },
          "metadata": {},
          "execution_count": 18
        }
      ]
    },
    {
      "cell_type": "code",
      "source": [],
      "metadata": {
        "colab": {
          "base_uri": "https://localhost:8080/"
        },
        "id": "i8KVFb52DGb1",
        "outputId": "bc805a02-8a3f-415f-9dda-3d77b86df12d"
      },
      "execution_count": null,
      "outputs": [
        {
          "output_type": "stream",
          "name": "stdout",
          "text": [
            "+----------------+-------+-----+----------+\n",
            "|          Artist|Average|Count|Popularity|\n",
            "+----------------+-------+-----+----------+\n",
            "| Johannes Brahms|    4.1|  313|      1282|\n",
            "|    Morton Gould|    7.0|    8|        56|\n",
            "|       B Jayamma|    0.0|   14|         0|\n",
            "|Mixalis Thomakos|    0.0|   22|         0|\n",
            "|      Alan Mills|   1.67|   18|        30|\n",
            "+----------------+-------+-----+----------+\n",
            "\n"
          ]
        }
      ]
    },
    {
      "cell_type": "code",
      "source": [],
      "metadata": {
        "id": "-iANFZiqgos8"
      },
      "execution_count": null,
      "outputs": []
    }
  ]
}